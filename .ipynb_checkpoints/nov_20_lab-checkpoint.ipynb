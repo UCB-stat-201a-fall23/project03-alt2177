{
 "cells": [
  {
   "cell_type": "markdown",
   "id": "4768ae8b",
   "metadata": {},
   "source": [
    "# STAT 201A Problem Set (Nov. 20th Lab)\n",
    "### December 3rd, 2023\n",
    "### Author: Austin Tao"
   ]
  },
  {
   "cell_type": "code",
   "execution_count": 3,
   "id": "changing-nancy",
   "metadata": {},
   "outputs": [],
   "source": [
    "import numpy as np\n",
    "import pandas as pd\n",
    "import matplotlib.pyplot as plt\n",
    "\n",
    "np.random.seed(342)"
   ]
  },
  {
   "cell_type": "markdown",
   "id": "38782f78",
   "metadata": {},
   "source": [
    "## Question 1: Simulation of Markov Process\n",
    "\n",
    "**(a)**\n",
    "Our Markov chain can be represented in a transition matrix \n",
    "\n",
    "$$\n",
    "P = \n",
    "\\begin{bmatrix}\n",
    "    0.2 & 0.7 & 0.1 \\\\\n",
    "    0.2 & 0.5 & 0.3 \\\\\n",
    "    0.2 & 0.4 & 0.4\n",
    "\\end{bmatrix}\n",
    "$$\n",
    "\n",
    "**(b)**\n",
    "Now, let us simulate one realization of this chain."
   ]
  },
  {
   "cell_type": "code",
   "execution_count": 2,
   "id": "9ccf31bd",
   "metadata": {},
   "outputs": [],
   "source": [
    "def sim_markov_step(transition_matrix, current_state):\n",
    "    \"\"\"Simulate one step of a markov process\n",
    "\n",
    "    Args:\n",
    "        transition_matrix: matrix of transition probabilities\n",
    "        current_state: the current state of the process\n",
    "\n",
    "    Returns:\n",
    "        next_state: the next state selected in the process\n",
    "\n",
    "    \"\"\"\n",
    "    next_state = np.random.choice([1, 2, 3], p = transition_matrix[current_state - 1])\n",
    "\n",
    "    return next_state\n"
   ]
  },
  {
   "cell_type": "code",
   "execution_count": 9,
   "id": "d5342cdb",
   "metadata": {},
   "outputs": [
    {
     "name": "stdout",
     "output_type": "stream",
     "text": [
      "Step 0: 2\n",
      "Step 1: 2\n",
      "Step 2: 3\n",
      "Step 3: 1\n",
      "Step 4: 2\n",
      "Step 5: 2\n",
      "Step 6: 2\n",
      "Step 7: 2\n",
      "Step 8: 2\n",
      "Step 9: 2\n",
      "Step 10: 3\n",
      "Step 11: 1\n",
      "Step 12: 2\n",
      "Step 13: 3\n",
      "Step 14: 2\n",
      "Step 15: 3\n",
      "Step 16: 3\n",
      "Step 17: 1\n",
      "Step 18: 1\n",
      "Step 19: 2\n"
     ]
    }
   ],
   "source": [
    "# input our parameters\n",
    "P = np.array([[0.2, 0.7, 0.1], [0.2, 0.5, 0.3], [0.2, 0.4, 0.4]])\n",
    "X_0 = 1\n",
    "epochs = 20\n",
    "\n",
    "for i in range(epochs):\n",
    "    print(\"Step {}: {}\".format(i, sim_markov_step(P, X_0)))\n",
    "    X_0 = sim_markov_step(P, X_0)"
   ]
  },
  {
   "cell_type": "markdown",
   "id": "22435eea",
   "metadata": {},
   "source": [
    "## Question 2: Stationary Distribution\n",
    "\n",
    "**(a)**\n",
    "\n",
    "\n",
    "**(b)**"
   ]
  },
  {
   "cell_type": "markdown",
   "id": "ce69582b",
   "metadata": {},
   "source": [
    "## Question 3: Absorbing State\n",
    "\n",
    "**(a)** We want to simulate the distribution of arrival time."
   ]
  },
  {
   "cell_type": "code",
   "execution_count": 11,
   "id": "5d1c567c",
   "metadata": {},
   "outputs": [],
   "source": [
    "def t_arrival(transition_matrix, X_0, X_end):\n",
    "    \"\"\"Count the waiting time to go from X_0 to X_end given transition matrix P\n",
    "\n",
    "    Args:\n",
    "        transition_matrix: matrix of transition probabilities\n",
    "        current_state: the current state of the process\n",
    "\n",
    "    Returns:\n",
    "        t_arrive: time to arrive to X_end\n",
    "\n",
    "    \"\"\"\n",
    "    t_arrive = 0\n",
    "    while X_0 != X_end:\n",
    "        X_0 = sim_markov_step(transition_matrix, X_0)\n",
    "        t_arrive += 1\n",
    "\n",
    "    return t_arrive\n",
    "\n"
   ]
  },
  {
   "cell_type": "code",
   "execution_count": 12,
   "id": "25fe0e12",
   "metadata": {},
   "outputs": [
    {
     "name": "stdout",
     "output_type": "stream",
     "text": [
      "X_0 = 1 Mean arrival time: 4.6374\n",
      "X_0 = 2 Mean arrival time: 3.8679\n"
     ]
    },
    {
     "data": {
      "image/png": "[encoded data removed]",
      "text/plain": [
       "<Figure size 640x480 with 1 Axes>"
      ]
     },
     "metadata": {},
     "output_type": "display_data"
    }
   ],
   "source": [
    "X_01 = 1\n",
    "X_02 = 2\n",
    "X_end = 3\n",
    "t_arrive_1 = []\n",
    "t_arrive_2 = []\n",
    "n_sims = 10000\n",
    "\n",
    "# perform simulations\n",
    "for n in range(n_sims):\n",
    "    t_arrive_1.append(t_arrival(P, X_01, X_end))\n",
    "    t_arrive_2.append(t_arrival(P, X_02, X_end)) \n",
    "\n",
    "# display results of simulation\n",
    "print(\"X_0 = 1 Mean arrival time: {}\".format(np.mean(t_arrive_1)))\n",
    "print(\"X_0 = 2 Mean arrival time: {}\".format(np.mean(t_arrive_2)))\n",
    "    \n",
    "# plotting\n",
    "n_bins = 20\n",
    "\n",
    "plt.hist(t_arrive_1, bins = n_bins, alpha = 0.8, label = \"$X_0 = 1$\", color = \"lightskyblue\")\n",
    "plt.hist(t_arrive_2, bins = n_bins, alpha = 0.4, label = \"$X_0 = 2$\", color = \"violet\")\n",
    "plt.xlabel(\"Time\")\n",
    "plt.ylabel(\"Frequency\")\n",
    "plt.title(\"Time to arrive at $X_n = 3$ starting at $X_0 = 1$ or 2\")\n",
    "plt.legend()\n",
    "plt.show()"
   ]
  },
  {
   "cell_type": "markdown",
   "id": "1632edcb",
   "metadata": {},
   "source": [
    "**(b)**"
   ]
  },
  {
   "cell_type": "code",
   "execution_count": null,
   "id": "5683f00c",
   "metadata": {},
   "outputs": [],
   "source": []
  }
 ],
 "metadata": {
  "kernelspec": {
   "display_name": "Python 3 (ipykernel)",
   "language": "python",
   "name": "python3"
  },
  "language_info": {
   "codemirror_mode": {
    "name": "ipython",
    "version": 3
   },
   "file_extension": ".py",
   "mimetype": "text/x-python",
   "name": "python",
   "nbconvert_exporter": "python",
   "pygments_lexer": "ipython3",
   "version": "3.11.5"
  }
 },
 "nbformat": 4,
 "nbformat_minor": 5
}
